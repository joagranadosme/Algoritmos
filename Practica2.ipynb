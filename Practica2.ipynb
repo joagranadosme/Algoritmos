{
 "cells": [
  {
   "cell_type": "markdown",
   "metadata": {},
   "source": [
    "# Práctica Ipython"
   ]
  },
  {
   "cell_type": "markdown",
   "metadata": {},
   "source": [
    "## Análisis experimental"
   ]
  },
  {
   "cell_type": "markdown",
   "metadata": {},
   "source": [
    "### Insertion Sort\n",
    "Implementación Cormen"
   ]
  },
  {
   "cell_type": "code",
   "execution_count": 96,
   "metadata": {
    "collapsed": false
   },
   "outputs": [],
   "source": [
    "def insertionSort(n):\n",
    "    j=1\n",
    "    while j<len(n):\n",
    "        llave=n[j]\n",
    "        i=j-1\n",
    "        while i>=0 and n[i]>llave:\n",
    "            n[i+1]=n[i]\n",
    "            i=i-1\n",
    "        n[i+1]=llave\n",
    "        j=j+1"
   ]
  },
  {
   "cell_type": "markdown",
   "metadata": {},
   "source": [
    "Inicialización de los arreglos de tamaño 4, 5 y 6."
   ]
  },
  {
   "cell_type": "code",
   "execution_count": 139,
   "metadata": {
    "collapsed": false,
    "scrolled": true
   },
   "outputs": [
    {
     "name": "stdout",
     "output_type": "stream",
     "text": [
      "[[0, 1, 2, 3], [0, 1, 2, 3, 4], [0, 1, 2, 3, 4, 5]]\n"
     ]
    }
   ],
   "source": [
    "import time\n",
    "import itertools\n",
    "import math\n",
    "\n",
    "menor=4\n",
    "mayor=6\n",
    "\n",
    "arreglos=[]\n",
    "for i in range(menor,mayor+1):\n",
    "    lista=list(range(i))\n",
    "    arreglos.append(lista)\n",
    "\n",
    "print arreglos"
   ]
  },
  {
   "cell_type": "markdown",
   "metadata": {},
   "source": [
    "Arreglo de tamaño 4."
   ]
  },
  {
   "cell_type": "code",
   "execution_count": 161,
   "metadata": {
    "collapsed": false,
    "scrolled": false
   },
   "outputs": [
    {
     "name": "stdout",
     "output_type": "stream",
     "text": [
      "Arreglo de tamaño: 4\n",
      "Mejor: 8.55272082845e-06\n",
      "Peor: 4.56145062344e-06\n",
      "Promedio: 4.39514769823e-06\n",
      "\n",
      "Arreglo de tamaño: 5\n",
      "Mejor: 3.99127020501e-06\n",
      "Peor: 6.84217775415e-06\n",
      "Promedio: 5.8586133188e-06\n",
      "\n",
      "Arreglo de tamaño: 6\n",
      "Mejor: 4.56145062344e-06\n",
      "Peor: 9.12290124688e-06\n",
      "Promedio: 6.28862504628e-06\n",
      "\n"
     ]
    }
   ],
   "source": [
    "datos=[]\n",
    "for arreglo in arreglos:\n",
    "    tiempos=[]\n",
    "    permutaciones=list(itertools.permutations(arreglo))\n",
    "    for i in permutaciones:\n",
    "        lista=list(i)\n",
    "        #print lista,\n",
    "        tInicial=time.clock()\n",
    "        insertionSort(lista)\n",
    "        #print lista,\n",
    "        tFinal=time.clock()\n",
    "        tTotal=tFinal-tInicial\n",
    "        #print tTotal\n",
    "        tiempos.append(tTotal)\n",
    "    datos.append(tiempos)\n",
    "\n",
    "mejores=[]\n",
    "peores=[]\n",
    "promedios=[]\n",
    "    \n",
    "for i in xrange(len(arreglos)):\n",
    "    print \"Arreglo de tamaño:\",len(arreglos[i])\n",
    "    print \"Mejor:\",datos[i][0]\n",
    "    mejores.append(datos[i][0])\n",
    "    print \"Peor:\",datos[i][len(datos[i])-1]\n",
    "    peores.append(datos[i][len(datos[i])-1])\n",
    "    prom=sum(datos[i])/len(datos[i])\n",
    "    print \"Promedio:\",prom\n",
    "    promedios.append(prom)\n",
    "    #print datos[i][len(datos[i])-1]-datos[i][0]    \n",
    "    print \"\"\n",
    "    "
   ]
  },
  {
   "cell_type": "markdown",
   "metadata": {},
   "source": [
    "### Interpolación"
   ]
  },
  {
   "cell_type": "code",
   "execution_count": 162,
   "metadata": {
    "collapsed": false
   },
   "outputs": [
    {
     "data": {
      "text/plain": [
       "<matplotlib.legend.Legend at 0xbd31668>"
      ]
     },
     "execution_count": 162,
     "metadata": {},
     "output_type": "execute_result"
    },
    {
     "data": {
      "image/png": "[encoded data removed]",
      "text/plain": [
       "<matplotlib.figure.Figure at 0xb01ec50>"
      ]
     },
     "metadata": {},
     "output_type": "display_data"
    }
   ],
   "source": [
    "%matplotlib inline\n",
    "import matplotlib.pyplot as plt\n",
    "import numpy as np\n",
    "from scipy.interpolate import interp1d\n",
    "\n",
    "x = np.linspace(menor,mayor,mayor-menor+1,endpoint=True)\n",
    "x2 = np.linspace(menor,mayor,10,endpoint=True)\n",
    "\n",
    "f1 = interp1d(x,mejores,kind='quadratic')\n",
    "f2 = interp1d(x,peores,kind='quadratic')\n",
    "f3 = interp1d(x,promedios,kind='quadratic')\n",
    "\n",
    "\n",
    "plt.plot(x,mejores,x,peores,x,promedios)\n",
    "#plt.plot(x2,f1(x2),x2,f2(x2),x2,f3(x2))\n",
    "plt.legend(['Mejor','Peor','Promedio'],loc='best')\n",
    "\n"
   ]
  },
  {
   "cell_type": "code",
   "execution_count": null,
   "metadata": {
    "collapsed": true
   },
   "outputs": [],
   "source": []
  }
 ],
 "metadata": {
  "kernelspec": {
   "display_name": "Python 2",
   "language": "python",
   "name": "python2"
  },
  "language_info": {
   "codemirror_mode": {
    "name": "ipython",
    "version": 2
   },
   "file_extension": ".py",
   "mimetype": "text/x-python",
   "name": "python",
   "nbconvert_exporter": "python",
   "pygments_lexer": "ipython2",
   "version": "2.7.11"
  }
 },
 "nbformat": 4,
 "nbformat_minor": 0
}
