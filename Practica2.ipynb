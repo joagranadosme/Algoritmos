{
 "cells": [
  {
   "cell_type": "markdown",
   "metadata": {},
   "source": [
    "# Práctica Ipython"
   ]
  },
  {
   "cell_type": "markdown",
   "metadata": {},
   "source": [
    "## Análisis experimental"
   ]
  },
  {
   "cell_type": "markdown",
   "metadata": {},
   "source": [
    "### Insertion Sort\n",
    "Implementación Cormen"
   ]
  },
  {
   "cell_type": "code",
   "execution_count": 62,
   "metadata": {
    "collapsed": false
   },
   "outputs": [],
   "source": [
    "def insertionSort(n):\n",
    "    sort=[]\n",
    "    sort.append(n[0])\n",
    "    for i in range(1,len(n)):\n",
    "        for j in range(i):\n",
    "            if n[i]<sort[j]:\n",
    "                sort.insert(j,n[i])\n",
    "                break\n",
    "        if len(sort)==i:\n",
    "            sort.append(n[i])\n",
    "    return sort"
   ]
  },
  {
   "cell_type": "markdown",
   "metadata": {},
   "source": [
    "Inicialización de los arreglos de tamaño 4, 5 y 6."
   ]
  },
  {
   "cell_type": "code",
   "execution_count": 63,
   "metadata": {
    "collapsed": false,
    "scrolled": true
   },
   "outputs": [
    {
     "name": "stdout",
     "output_type": "stream",
     "text": [
      "[[0, 1, 2, 3], [0, 1, 2, 3, 4], [0, 1, 2, 3, 4, 5]]\n"
     ]
    }
   ],
   "source": [
    "import time\n",
    "import itertools\n",
    "import math\n",
    "\n",
    "arreglo4=list(range(4))\n",
    "arreglo5=list(range(5))\n",
    "arreglo6=list(range(6))\n",
    "\n",
    "arreglos=[]\n",
    "arreglos.append(arreglo4)\n",
    "arreglos.append(arreglo5)\n",
    "arreglos.append(arreglo6)\n",
    "print arreglos"
   ]
  },
  {
   "cell_type": "markdown",
   "metadata": {},
   "source": [
    "Arreglo de tamaño 4."
   ]
  },
  {
   "cell_type": "code",
   "execution_count": 71,
   "metadata": {
    "collapsed": false,
    "scrolled": false
   },
   "outputs": [
    {
     "name": "stdout",
     "output_type": "stream",
     "text": [
      "Mejor: 1.02632639027e-05\n",
      "Peor: 6.84217593516e-06\n",
      "Promedio: 6.67587321838e-06\n",
      "\n",
      "Mejor: 1.08334452307e-05\n",
      "Peor: 4.56145062344e-06\n",
      "Promedio: 7.45036951836e-06\n",
      "\n",
      "Mejor: 7.41235771784e-06\n",
      "Peor: 1.19738083413e-05\n",
      "Promedio: 9.28286899327e-06\n",
      "\n"
     ]
    }
   ],
   "source": [
    "datos=[]\n",
    "for arreglo in arreglos:\n",
    "    tiempos=[]\n",
    "    permutaciones=list(itertools.permutations(arreglo))\n",
    "    for lista in permutaciones:\n",
    "        #print lista,\n",
    "        tInicial=time.clock()\n",
    "        insertionSort(lista)\n",
    "        tFinal=time.clock()\n",
    "        tTotal=tFinal-tInicial\n",
    "        #print tTotal\n",
    "        tiempos.append(tTotal)\n",
    "    datos.append(tiempos)\n",
    "    \n",
    "for i in datos:\n",
    "    print \"Mejor:\",i[0]\n",
    "    print \"Peor:\",i[len(i)-1]\n",
    "    print \"Promedio:\",sum(i)/len(i)\n",
    "    print \"\""
   ]
  },
  {
   "cell_type": "code",
   "execution_count": null,
   "metadata": {
    "collapsed": true
   },
   "outputs": [],
   "source": []
  },
  {
   "cell_type": "code",
   "execution_count": null,
   "metadata": {
    "collapsed": true
   },
   "outputs": [],
   "source": []
  }
 ],
 "metadata": {
  "kernelspec": {
   "display_name": "Python 2",
   "language": "python",
   "name": "python2"
  },
  "language_info": {
   "codemirror_mode": {
    "name": "ipython",
    "version": 2
   },
   "file_extension": ".py",
   "mimetype": "text/x-python",
   "name": "python",
   "nbconvert_exporter": "python",
   "pygments_lexer": "ipython2",
   "version": "2.7.11"
  }
 },
 "nbformat": 4,
 "nbformat_minor": 0
}
