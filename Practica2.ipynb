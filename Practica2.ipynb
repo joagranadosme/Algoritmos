{
 "cells": [
  {
   "cell_type": "markdown",
   "metadata": {},
   "source": [
    "# Práctica Ipython"
   ]
  },
  {
   "cell_type": "markdown",
   "metadata": {},
   "source": [
    "## Análisis experimental Insertion Sort"
   ]
  },
  {
   "cell_type": "markdown",
   "metadata": {},
   "source": [
    "\n",
    "Implementación Cormen"
   ]
  },
  {
   "cell_type": "code",
   "execution_count": 1,
   "metadata": {
    "collapsed": false
   },
   "outputs": [],
   "source": [
    "def insertionSort(n):\n",
    "    j=1\n",
    "    while j<len(n):\n",
    "        llave=n[j]\n",
    "        i=j-1\n",
    "        while i>=0 and n[i]>llave:\n",
    "            n[i+1]=n[i]\n",
    "            i=i-1\n",
    "        n[i+1]=llave\n",
    "        j=j+1"
   ]
  },
  {
   "cell_type": "markdown",
   "metadata": {},
   "source": [
    "Creación e inicialización de los arreglos."
   ]
  },
  {
   "cell_type": "code",
   "execution_count": 2,
   "metadata": {
    "collapsed": false,
    "scrolled": true
   },
   "outputs": [
    {
     "name": "stdout",
     "output_type": "stream",
     "text": [
      "[[0, 1, 2, 3], [0, 1, 2, 3, 4], [0, 1, 2, 3, 4, 5]]\n"
     ]
    }
   ],
   "source": [
    "import itertools\n",
    "import math\n",
    "import time\n",
    "\n",
    "menor=4\n",
    "mayor=6\n",
    "\n",
    "arreglos=[]\n",
    "for i in range(menor,mayor+1):\n",
    "    lista=list(range(i))\n",
    "    arreglos.append(lista)\n",
    "\n",
    "print arreglos"
   ]
  },
  {
   "cell_type": "markdown",
   "metadata": {},
   "source": [
    "### Cálculo de datos\n",
    "Hacemos mil ordenamientos para cada una de las permutaciones de los arreglos, hallamos el promedio y tomamos este dato."
   ]
  },
  {
   "cell_type": "code",
   "execution_count": 3,
   "metadata": {
    "collapsed": false,
    "scrolled": true
   },
   "outputs": [
    {
     "name": "stdout",
     "output_type": "stream",
     "text": [
      "Arreglo de tamaño: 4\n",
      "Mejor: 2.09142277188e-06\n",
      "Peor: 3.40112781741e-06\n",
      "Promedio: 2.78861121089e-06\n",
      "\n",
      "Arreglo de tamaño: 5\n",
      "Mejor: 2.39760980255e-06\n",
      "Peor: 4.4200407109e-06\n",
      "Promedio: 3.45172660216e-06\n",
      "\n",
      "Arreglo de tamaño: 6\n",
      "Mejor: 2.72831460289e-06\n",
      "Peor: 5.61913070252e-06\n",
      "Promedio: 4.24380261105e-06\n",
      "\n"
     ]
    }
   ],
   "source": [
    "datos=[]\n",
    "for arreglo in arreglos:\n",
    "    tiempos=[0]*(math.factorial(len(arreglo)))\n",
    "    #print tiempos\n",
    "    permutaciones=list(itertools.permutations(arreglo))\n",
    "    for n in xrange(1000):\n",
    "        ind=0\n",
    "        for i in permutaciones:\n",
    "            lista=list(i)\n",
    "            tInicial=time.clock()\n",
    "            insertionSort(lista)\n",
    "            tFinal=time.clock()\n",
    "            tTotal=tFinal-tInicial\n",
    "            tiempos[ind]+=tTotal\n",
    "            ind+=1\n",
    "        #print n, tiempos\n",
    "        \n",
    "    for n in xrange(len(tiempos)):\n",
    "        tiempos[n]/=1000\n",
    "        \n",
    "    datos.append(tiempos)\n",
    "\n",
    "mejores=[]\n",
    "peores=[]\n",
    "promedios=[]\n",
    "    \n",
    "for i in xrange(len(arreglos)):\n",
    "    print \"Arreglo de tamaño:\",len(arreglos[i])\n",
    "    print \"Mejor:\",datos[i][0]\n",
    "    mejores.append(datos[i][0])\n",
    "    print \"Peor:\",datos[i][len(datos[i])-1]\n",
    "    peores.append(datos[i][len(datos[i])-1])\n",
    "    prom=sum(datos[i])/len(datos[i])\n",
    "    print \"Promedio:\",prom\n",
    "    promedios.append(prom)\n",
    "    #print datos[i][len(datos[i])-1]-datos[i][0]    \n",
    "    print \"\"\n",
    "    "
   ]
  },
  {
   "cell_type": "markdown",
   "metadata": {},
   "source": [
    "### Coeficientes e interpolación\n",
    "Interpolamos con la función interpolate."
   ]
  },
  {
   "cell_type": "code",
   "execution_count": 4,
   "metadata": {
    "collapsed": false,
    "scrolled": true
   },
   "outputs": [
    {
     "data": {
      "text/plain": [
       "<matplotlib.legend.Legend at 0x3ce7cc0>"
      ]
     },
     "execution_count": 4,
     "metadata": {},
     "output_type": "execute_result"
    },
    {
     "data": {
      "image/png": "[encoded data removed]",
      "text/plain": [
       "<matplotlib.figure.Figure at 0x6ae1860>"
      ]
     },
     "metadata": {},
     "output_type": "display_data"
    }
   ],
   "source": [
    "%matplotlib inline\n",
    "import matplotlib.pyplot as plt\n",
    "import numpy as np\n",
    "from scipy.interpolate import interp1d\n",
    "\n",
    "x = np.linspace(menor,mayor,mayor-menor+1,endpoint=True)\n",
    "plt.plot(x,mejores,x,peores,x,promedios)\n",
    "plt.legend(['Mejor','Peor','Promedio'],loc='best')"
   ]
  },
  {
   "cell_type": "markdown",
   "metadata": {},
   "source": [
    "Hallamos los coeficientes usando la función polyfit."
   ]
  },
  {
   "cell_type": "code",
   "execution_count": 5,
   "metadata": {
    "collapsed": false
   },
   "outputs": [
    {
     "name": "stdout",
     "output_type": "stream",
     "text": [
      "Constantes para los polinomios:\n",
      "Pol mejr caso: (1.22588848388e-08)x²+(1.9585706712e-07)x+(1.11185234597e-06)\n",
      "Pol prom caso: (1.22588848388e-08)x²+(1.9585706712e-07)x+(1.11185234597e-06)\n",
      "Pol peor caso: (1.22588848388e-08)x²+(1.9585706712e-07)x+(1.11185234597e-06)\n"
     ]
    }
   ],
   "source": [
    "x2 = np.arange(menor,mayor+1,1)\n",
    "\n",
    "pm = np.polyfit(x2, mejores, 2)\n",
    "pr = np.polyfit(x2, mejores, 2)\n",
    "pp = np.polyfit(x2, mejores, 2)\n",
    "\n",
    "print \"Constantes para los polinomios:\"\n",
    "print \"Pol mejr caso: (\"+str(pm[0])+\")x²+(\"+str(pm[1])+\")x+(\"+str(pm[2])+\")\"\n",
    "print \"Pol prom caso: (\"+str(pr[0])+\")x²+(\"+str(pr[1])+\")x+(\"+str(pr[2])+\")\"\n",
    "print \"Pol peor caso: (\"+str(pp[0])+\")x²+(\"+str(pp[1])+\")x+(\"+str(pp[2])+\")\""
   ]
  },
  {
   "cell_type": "code",
   "execution_count": 6,
   "metadata": {
    "collapsed": false
   },
   "outputs": [
    {
     "data": {
      "text/plain": [
       "<matplotlib.legend.Legend at 0x73c04e0>"
      ]
     },
     "execution_count": 6,
     "metadata": {},
     "output_type": "execute_result"
    },
    {
     "data": {
      "image/png": "[encoded data removed]",
      "text/plain": [
       "<matplotlib.figure.Figure at 0x73c0550>"
      ]
     },
     "metadata": {},
     "output_type": "display_data"
    }
   ],
   "source": [
    "f1 = interp1d(x,mejores,kind='quadratic')\n",
    "f2 = interp1d(x,peores,kind='quadratic')\n",
    "f3 = interp1d(x,promedios,kind='quadratic')\n",
    "\n",
    "x = np.linspace(menor,mayor,40,endpoint=True)\n",
    "\n",
    "plt.plot(x,f1(x),x,f2(x),x,f3(x))\n",
    "plt.legend(['Mejor','Peor','Promedio'],loc='best')"
   ]
  },
  {
   "cell_type": "markdown",
   "metadata": {
    "collapsed": true
   },
   "source": [
    "## Análisis de Insertion Sort + Merge Sort"
   ]
  },
  {
   "cell_type": "markdown",
   "metadata": {},
   "source": [
    "Defenimos merge sort"
   ]
  },
  {
   "cell_type": "code",
   "execution_count": 7,
   "metadata": {
    "collapsed": true
   },
   "outputs": [],
   "source": [
    "def merge(A, p, q, r):\n",
    "    L = A[p:q+1]+[float('inf')]\n",
    "    R = A[q+1:r+1]+[float('inf')]\n",
    "    i = 0\n",
    "    j = 0\n",
    "    for k in range(p, r + 1):\n",
    "        if L[i] <= R[j]:\n",
    "            A[k] = L[i]\n",
    "            i += 1\n",
    "        else:\n",
    "            A[k] = R[j]\n",
    "            j += 1\n",
    "            \n",
    "def merge_sort_main(A, p, r):\n",
    "    if p < r:\n",
    "        q = int((p + r) / 2.0)\n",
    "        merge_sort_main(A, p, q)\n",
    "        merge_sort_main(A, q + 1, r)\n",
    "        merge(A, p, q, r)\n",
    "\n",
    "def mergeSort(A):\n",
    "    merge_sort_main(A, 0, len(A) - 1)"
   ]
  },
  {
   "cell_type": "markdown",
   "metadata": {},
   "source": [
    "Hacemos mil ordenamientos para arreglos de tamaños desde 4 hasta 104. Tomamos el promedio de estos datos y los graficamos para observar el punto de corte entre insertionSort() y mergeSort()."
   ]
  },
  {
   "cell_type": "code",
   "execution_count": 8,
   "metadata": {
    "collapsed": false,
    "scrolled": true
   },
   "outputs": [
    {
     "name": "stdout",
     "output_type": "stream",
     "text": [
      "Punto de cruce o limite 83\n"
     ]
    },
    {
     "data": {
      "image/png": "[encoded data removed]",
      "text/plain": [
       "<matplotlib.figure.Figure at 0x780b278>"
      ]
     },
     "metadata": {},
     "output_type": "display_data"
    }
   ],
   "source": [
    "import random\n",
    "from random import randint\n",
    "\n",
    "minimo=4\n",
    "maximo=104\n",
    "\n",
    "datosI=[]\n",
    "datosM=[]\n",
    "arreglos=[]\n",
    "\n",
    "for i in xrange(minimo,maximo):\n",
    "    arreglos.append(list(range(i)))\n",
    "    \n",
    "\n",
    "for i in arreglos:\n",
    "    suma=0\n",
    "    for j in xrange(1000):\n",
    "        random.shuffle(i,random.random)\n",
    "        #print i,\n",
    "        tInicial=time.clock()\n",
    "        insertionSort(i)\n",
    "        tFinal=time.clock()\n",
    "        #print i, tFinal-tInicial\n",
    "        suma+=(tFinal-tInicial)\n",
    "    suma/=1000\n",
    "    datosI.append(suma)\n",
    "    \n",
    "for i in arreglos:\n",
    "    suma=0\n",
    "    for j in xrange(1000):\n",
    "        random.shuffle(i,random.random)\n",
    "        tInicial=time.clock()\n",
    "        mergeSort(i)\n",
    "        tFinal=time.clock()\n",
    "        suma+=(tFinal-tInicial)\n",
    "    suma/=1000\n",
    "    datosM.append(suma)\n",
    "\n",
    "x = np.linspace(minimo,maximo,maximo-minimo,endpoint=True)\n",
    "plt.plot(x,datosI,x,datosM)\n",
    "plt.legend(['Insertion','Merge'],loc='best')\n",
    "\n",
    "dist=1000\n",
    "for i in xrange(maximo-minimo):\n",
    "    if abs(datosI[i]-datosM[i])<dist:\n",
    "        dist=abs(datosI[i]-datosM[i])\n",
    "        cruce=i\n",
    "        \n",
    "print \"Punto de cruce o limite\",cruce+minimo\n"
   ]
  },
  {
   "cell_type": "markdown",
   "metadata": {
    "collapsed": true
   },
   "source": [
    "## Combinados\n",
    "Con el punto de corte podemos crear una optimización combinando los algoritmos, haciendo que ordene con insertionSort() antes del límite hallado y con mergeSort() después del límite hallado. Para finalizar, hacemos mil ordenamientos como se hizo anteriormente con los algoritmos pero en este caso con la combinación y comparamos los resultados de los tiempos obtenidos."
   ]
  },
  {
   "cell_type": "code",
   "execution_count": 9,
   "metadata": {
    "collapsed": false
   },
   "outputs": [
    {
     "data": {
      "text/plain": [
       "<matplotlib.legend.Legend at 0x7776470>"
      ]
     },
     "execution_count": 9,
     "metadata": {},
     "output_type": "execute_result"
    },
    {
     "data": {
      "image/png": "[encoded data removed]",
      "text/plain": [
       "<matplotlib.figure.Figure at 0x7776f98>"
      ]
     },
     "metadata": {},
     "output_type": "display_data"
    }
   ],
   "source": [
    "import sys\n",
    "from itertools import repeat\n",
    "\n",
    "sys.setrecursionlimit(1500)\n",
    "threshold=cruce+minimo\n",
    "\n",
    "def insertionSort2(A, p, r):\n",
    "    for j in range(p + 1, r + 1):\n",
    "        key = A[j]\n",
    "        i = j - 1\n",
    "        while i >= p and A[i] > key:\n",
    "            A[i + 1] = A[i]\n",
    "            i = i - 1\n",
    "        A[i + 1] = key\n",
    "\n",
    "def mixedSort(A, p, r):\n",
    "    if r - p < threshold:\n",
    "        insertionSort2(A,p,r)\n",
    "    else:\n",
    "        q = int((p + r) / 2.0)\n",
    "        mixedSort(A, p, q)\n",
    "        mixedSort(A, q + 1, r)\n",
    "        merge(A, p, q, r)\n",
    "        \n",
    "        \n",
    "datosC=[]\n",
    "\n",
    "for i in arreglos:\n",
    "    suma=0\n",
    "    for j in xrange(1000):\n",
    "        random.shuffle(i,random.random)\n",
    "        #print i,\n",
    "        tInicial=time.clock()\n",
    "        mixedSort(i,0,len(i)-1)\n",
    "        tFinal=time.clock()\n",
    "        #print i, tFinal-tInicial\n",
    "        suma+=(tFinal-tInicial)\n",
    "    suma/=1000\n",
    "    datosC.append(suma)\n",
    "        \n",
    "plt.plot(x,datosI,x,datosM,x,datosC)\n",
    "plt.legend(['Insertion','Merge','Mixed'],loc='best')"
   ]
  },
  {
   "cell_type": "markdown",
   "metadata": {},
   "source": [
    "## Conclusión\n",
    "Se puede observar en la gráfica que la línea roja (algoritmo combinado) hace una notoria mejora en los tiempos de ordenamiento. Es decir, se ha encontrado una optimización combinando las mejores partes de los algoritmos insertionSort() y mergeSort()."
   ]
  }
 ],
 "metadata": {
  "kernelspec": {
   "display_name": "Python 2",
   "language": "python",
   "name": "python2"
  },
  "language_info": {
   "codemirror_mode": {
    "name": "ipython",
    "version": 2
   },
   "file_extension": ".py",
   "mimetype": "text/x-python",
   "name": "python",
   "nbconvert_exporter": "python",
   "pygments_lexer": "ipython2",
   "version": "2.7.11"
  }
 },
 "nbformat": 4,
 "nbformat_minor": 0
}
