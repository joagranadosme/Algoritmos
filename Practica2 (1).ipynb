{
 "cells": [
  {
   "cell_type": "markdown",
   "metadata": {},
   "source": [
    "# Práctica Ipython"
   ]
  },
  {
   "cell_type": "markdown",
   "metadata": {},
   "source": [
    "## Análisis experimental"
   ]
  },
  {
   "cell_type": "markdown",
   "metadata": {},
   "source": [
    "### Insertion Sort\n",
    "Implementación Cormen"
   ]
  },
  {
   "cell_type": "code",
   "execution_count": 1,
   "metadata": {
    "collapsed": false
   },
   "outputs": [],
   "source": [
    "def insertionSort(n):\n",
    "    j=1\n",
    "    while j<len(n):\n",
    "        llave=n[j]\n",
    "        i=j-1\n",
    "        while i>=0 and n[i]>llave:\n",
    "            n[i+1]=n[i]\n",
    "            i=i-1\n",
    "        n[i+1]=llave\n",
    "        j=j+1"
   ]
  },
  {
   "cell_type": "markdown",
   "metadata": {},
   "source": [
    "Creación e inicialización de los arreglos."
   ]
  },
  {
   "cell_type": "code",
   "execution_count": 2,
   "metadata": {
    "collapsed": false,
    "scrolled": true
   },
   "outputs": [
    {
     "name": "stdout",
     "output_type": "stream",
     "text": [
      "[[0, 1, 2, 3], [0, 1, 2, 3, 4], [0, 1, 2, 3, 4, 5]]\n"
     ]
    }
   ],
   "source": [
    "import itertools\n",
    "import math\n",
    "import time\n",
    "\n",
    "menor=4\n",
    "mayor=6\n",
    "\n",
    "arreglos=[]\n",
    "for i in range(menor,mayor+1):\n",
    "    lista=list(range(i))\n",
    "    arreglos.append(lista)\n",
    "\n",
    "print arreglos"
   ]
  },
  {
   "cell_type": "markdown",
   "metadata": {},
   "source": [
    "### Cálculo de datos"
   ]
  },
  {
   "cell_type": "code",
   "execution_count": 3,
   "metadata": {
    "collapsed": false,
    "scrolled": true
   },
   "outputs": [
    {
     "name": "stdout",
     "output_type": "stream",
     "text": [
      "Arreglo de tamaño: 4\n",
      "Mejor: 3.16449922227e-06\n",
      "Peor: 4.584247522e-06\n",
      "Promedio: 3.88981574822e-06\n",
      "\n",
      "Arreglo de tamaño: 5\n",
      "Mejor: 3.4780982443e-06\n",
      "Peor: 6.17504983374e-06\n",
      "Promedio: 4.8847324031e-06\n",
      "\n",
      "Arreglo de tamaño: 6\n",
      "Mejor: 4.24213949797e-06\n",
      "Peor: 9.08296803799e-06\n",
      "Promedio: 6.69668537871e-06\n",
      "\n"
     ]
    }
   ],
   "source": [
    "datos=[]\n",
    "for arreglo in arreglos:\n",
    "    tiempos=[0]*(math.factorial(len(arreglo)))\n",
    "    #print tiempos\n",
    "    permutaciones=list(itertools.permutations(arreglo))\n",
    "    for n in xrange(100):\n",
    "        ind=0\n",
    "        for i in permutaciones:\n",
    "            lista=list(i)\n",
    "            tInicial=time.clock()\n",
    "            insertionSort(lista)\n",
    "            tFinal=time.clock()\n",
    "            tTotal=tFinal-tInicial\n",
    "            tiempos[ind]+=tTotal\n",
    "            ind+=1\n",
    "        #print n, tiempos\n",
    "        \n",
    "    for n in xrange(len(tiempos)):\n",
    "        tiempos[n]/=100\n",
    "        \n",
    "    datos.append(tiempos)\n",
    "\n",
    "mejores=[]\n",
    "peores=[]\n",
    "promedios=[]\n",
    "    \n",
    "for i in xrange(len(arreglos)):\n",
    "    print \"Arreglo de tamaño:\",len(arreglos[i])\n",
    "    print \"Mejor:\",datos[i][0]\n",
    "    mejores.append(datos[i][0])\n",
    "    print \"Peor:\",datos[i][len(datos[i])-1]\n",
    "    peores.append(datos[i][len(datos[i])-1])\n",
    "    prom=sum(datos[i])/len(datos[i])\n",
    "    print \"Promedio:\",prom\n",
    "    promedios.append(prom)\n",
    "    #print datos[i][len(datos[i])-1]-datos[i][0]    \n",
    "    print \"\"\n",
    "    "
   ]
  },
  {
   "cell_type": "markdown",
   "metadata": {},
   "source": [
    "### Interpolación"
   ]
  },
  {
   "cell_type": "code",
   "execution_count": 4,
   "metadata": {
    "collapsed": false
   },
   "outputs": [
    {
     "data": {
      "text/plain": [
       "<matplotlib.legend.Legend at 0x37872b0>"
      ]
     },
     "execution_count": 4,
     "metadata": {},
     "output_type": "execute_result"
    },
    {
     "data": {
      "image/png": "[encoded data removed]",
      "text/plain": [
       "<matplotlib.figure.Figure at 0x6bfb860>"
      ]
     },
     "metadata": {},
     "output_type": "display_data"
    }
   ],
   "source": [
    "%matplotlib inline\n",
    "import matplotlib.pyplot as plt\n",
    "import numpy as np\n",
    "from scipy.interpolate import interp1d\n",
    "\n",
    "x = np.linspace(menor,mayor,mayor-menor+1,endpoint=True)\n",
    "plt.plot(x,mejores,x,peores,x,promedios)\n",
    "plt.legend(['Mejor','Peor','Promedio'],loc='best')"
   ]
  },
  {
   "cell_type": "code",
   "execution_count": 5,
   "metadata": {
    "collapsed": false
   },
   "outputs": [
    {
     "name": "stdout",
     "output_type": "stream",
     "text": [
      "Constantes para los polinomios:\n",
      "Pol mejr caso: (2.2522111582e-07)x²+(-1.71339102035e-06)x+(6.41452545057e-06)\n",
      "Pol prom caso: (2.2522111582e-07)x²+(-1.71339102035e-06)x+(6.41452545057e-06)\n",
      "Pol peor caso: (2.2522111582e-07)x²+(-1.71339102035e-06)x+(6.41452545057e-06)\n"
     ]
    }
   ],
   "source": [
    "x2 = np.arange(menor,mayor+1,1)\n",
    "\n",
    "pm = np.polyfit(x2, mejores, 2)\n",
    "pr = np.polyfit(x2, mejores, 2)\n",
    "pp = np.polyfit(x2, mejores, 2)\n",
    "\n",
    "print \"Constantes para los polinomios:\"\n",
    "print \"Pol mejr caso: (\"+str(pm[0])+\")x²+(\"+str(pm[1])+\")x+(\"+str(pm[2])+\")\"\n",
    "print \"Pol prom caso: (\"+str(pr[0])+\")x²+(\"+str(pr[1])+\")x+(\"+str(pr[2])+\")\"\n",
    "print \"Pol peor caso: (\"+str(pp[0])+\")x²+(\"+str(pp[1])+\")x+(\"+str(pp[2])+\")\""
   ]
  },
  {
   "cell_type": "code",
   "execution_count": 6,
   "metadata": {
    "collapsed": false
   },
   "outputs": [
    {
     "data": {
      "text/plain": [
       "<matplotlib.legend.Legend at 0x6757b38>"
      ]
     },
     "execution_count": 6,
     "metadata": {},
     "output_type": "execute_result"
    },
    {
     "data": {
      "image/png": "[encoded data removed]",
      "text/plain": [
       "<matplotlib.figure.Figure at 0x773fef0>"
      ]
     },
     "metadata": {},
     "output_type": "display_data"
    }
   ],
   "source": [
    "f1 = interp1d(x,mejores,kind='quadratic')\n",
    "f2 = interp1d(x,peores,kind='quadratic')\n",
    "f3 = interp1d(x,promedios,kind='quadratic')\n",
    "\n",
    "x = np.linspace(menor,mayor,40,endpoint=True)\n",
    "\n",
    "plt.plot(x,f1(x),x,f2(x),x,f3(x))\n",
    "plt.legend(['Mejor','Peor','Promedio'],loc='best')"
   ]
  },
  {
   "cell_type": "code",
   "execution_count": null,
   "metadata": {
    "collapsed": true
   },
   "outputs": [],
   "source": []
  }
 ],
 "metadata": {
  "kernelspec": {
   "display_name": "Python 2",
   "language": "python",
   "name": "python2"
  },
  "language_info": {
   "codemirror_mode": {
    "name": "ipython",
    "version": 2
   },
   "file_extension": ".py",
   "mimetype": "text/x-python",
   "name": "python",
   "nbconvert_exporter": "python",
   "pygments_lexer": "ipython2",
   "version": "2.7.11"
  }
 },
 "nbformat": 4,
 "nbformat_minor": 0
}
